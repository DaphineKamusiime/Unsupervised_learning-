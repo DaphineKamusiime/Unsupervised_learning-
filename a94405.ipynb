{
 "cells": [
  {
   "attachments": {},
   "cell_type": "markdown",
   "metadata": {},
   "source": [
    " You have been provided with a second dataset in the folder Dataset 2. This data within characterises countries based on socio-economic and health factors that determine overall development of a country."
   ]
  },
  {
   "cell_type": "code",
   "execution_count": null,
   "metadata": {},
   "outputs": [],
   "source": [
    "import warnings\n",
    "warnings.filterwarnings('ignore')"
   ]
  },
  {
   "cell_type": "code",
   "execution_count": null,
   "metadata": {},
   "outputs": [],
   "source": [
    "import pandas as pd\n",
    "import numpy as np\n",
    "import matplotlib.pyplot as plt\n",
    "import seaborn as sns\n",
    "#reading the dataset\n",
    "dataset2 = pd.read_csv(\"C:\\\\Users\\\\hp\\\\OneDrive\\\\Desktop\\\\Y2S2\\\\AI\\\\assignment3\\\\two\\\\Assignment 3- Dataset 2\\\\Country-data.csv\")\n",
    "\n",
    "print(dataset2.head())\n"
   ]
  },
  {
   "attachments": {},
   "cell_type": "markdown",
   "metadata": {},
   "source": [
    "Explore and preprocess the data"
   ]
  },
  {
   "cell_type": "code",
   "execution_count": null,
   "metadata": {},
   "outputs": [],
   "source": [
    "# Checking the first 5 rows of the dataset\n",
    "dataset2.head()\n",
    "\n",
    "# Checking the shape of the dataset\n",
    "dataset2.shape\n",
    "\n",
    "# Checking for missing values\n",
    "dataset2.isnull().sum()\n",
    "\n",
    "# Dropping the missing values\n",
    "dataset2.dropna(inplace=True)\n",
    "\n",
    "# Checking the data types of the columns\n",
    "dataset2.dtypes\n",
    "\n",
    "# Converting the categorical variable 'Country' into numerical variable\n",
    "from sklearn.preprocessing import LabelEncoder\n",
    "le = LabelEncoder()\n",
    "dataset2['country'] = le.fit_transform(dataset2['country'])\n",
    "\n",
    "# Scaling the numerical columns\n",
    "from sklearn.preprocessing import StandardScaler\n",
    "scaler = StandardScaler()\n",
    "dataset2_scaled = scaler.fit_transform(dataset2.drop('country', axis=1))\n",
    "\n",
    "# Converting the scaled data into a DataFrame\n",
    "dataset2_scaled = pd.DataFrame(dataset2_scaled, columns=dataset2.columns[1:])\n",
    "\n",
    "# Checking the first 5 rows of the scaled dataset\n",
    "dataset2_scaled.head()\n"
   ]
  },
  {
   "attachments": {},
   "cell_type": "markdown",
   "metadata": {},
   "source": [
    "Determine the optimal number of clusters using the Elbow method"
   ]
  },
  {
   "cell_type": "code",
   "execution_count": null,
   "metadata": {},
   "outputs": [],
   "source": [
    "from sklearn.cluster import KMeans\n",
    "\n",
    "# Creating a list to store the values of the sum of squared errors\n",
    "sse = []\n",
    "\n",
    "# Fit KMeans algorithm and iterate values of k from 1 to 10\n",
    "for k in range(1, 11):\n",
    "    kmeans = KMeans(n_clusters=k, random_state=42)\n",
    "    kmeans.fit(dataset2_scaled)\n",
    "    sse.append(kmeans.inertia_)\n",
    "\n",
    "# Plot the elbow curve to determine the optimal number of clusters\n",
    "plt.figure(figsize=(8, 6))\n",
    "plt.plot(range(1, 11), sse)\n",
    "plt.title('Elbow curve')\n",
    "plt.xlabel('Number of clusters')\n",
    "plt.ylabel('SSE')\n",
    "plt.show()\n"
   ]
  },
  {
   "attachments": {},
   "cell_type": "markdown",
   "metadata": {},
   "source": [
    "\n",
    "Cluster the data using KMeans algorithm with the optimal number of clusters"
   ]
  },
  {
   "cell_type": "code",
   "execution_count": null,
   "metadata": {},
   "outputs": [],
   "source": [
    "# Creating KMeans object with the optimal number of clusters\n",
    "kmeans = KMeans(n_clusters=3, random_state=42)\n",
    "\n",
    "# Fitting the KMeans algorithm on the scaled data\n",
    "kmeans.fit(dataset2_scaled)\n",
    "\n",
    "# Adding the cluster labels to the original dataset\n",
    "dataset2['Cluster'] = kmeans.labels_\n",
    "\n",
    "# Checking the first 5 rows of the dataset with the cluster labels\n",
    "dataset2.head()\n"
   ]
  },
  {
   "attachments": {},
   "cell_type": "markdown",
   "metadata": {},
   "source": [
    " Visualizing the clusters using a scatter plot"
   ]
  },
  {
   "cell_type": "code",
   "execution_count": null,
   "metadata": {},
   "outputs": [],
   "source": [
    "# Visualisation of the clusters on the 2D plot\n",
    "plt.figure(figsize=(10, 6))\n",
    "sns.scatterplot(x='gdpp', y='life_expec', hue='Cluster', data=dataset2)\n",
    "plt.title('Cluster plot')\n",
    "plt.xlabel('gdpp')\n",
    "plt.ylabel('Life expectancy')\n",
    "plt.show()\n"
   ]
  },
  {
   "attachments": {},
   "cell_type": "markdown",
   "metadata": {},
   "source": [
    "Determine the countries that need the most funding in aid and/or grants"
   ]
  },
  {
   "cell_type": "code",
   "execution_count": null,
   "metadata": {},
   "outputs": [],
   "source": [
    "# Group the dataset by cluster and calculate the mean values of the columns\n",
    "cluster_mean = dataset2.groupby('Cluster').mean()\n",
    "\n",
    "# Sort the clusters by GDP per capita and life expectancy\n",
    "cluster_mean = cluster_mean.sort_values(['gdpp', 'life_expec'], ascending=[True, False])\n",
    "\n",
    "# Print the countries that belong to Cluster 2 (the cluster with the lowest GDP per capita and life expectancy)\n",
    "\n",
    "print(dataset2[dataset2['Cluster'] == 2]['country'])\n",
    "\n",
    "\n"
   ]
  }
 ],
 "metadata": {
  "kernelspec": {
   "display_name": "Python 3",
   "language": "python",
   "name": "python3"
  },
  "language_info": {
   "codemirror_mode": {
    "name": "ipython",
    "version": 3
   },
   "file_extension": ".py",
   "mimetype": "text/x-python",
   "name": "python",
   "nbconvert_exporter": "python",
   "pygments_lexer": "ipython3",
   "version": "3.10.10"
  },
  "orig_nbformat": 4
 },
 "nbformat": 4,
 "nbformat_minor": 2
}
